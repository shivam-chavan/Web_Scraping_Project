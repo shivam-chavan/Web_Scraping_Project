{
 "cells": [
  {
   "cell_type": "markdown",
   "metadata": {},
   "source": [
    "# Web Scraping"
   ]
  },
  {
   "cell_type": "markdown",
   "metadata": {},
   "source": [
    "## Scraping Car Data from 'cars.com'\n",
    "## Focusing on the Brand 'BMW'\n",
    "## Data points \n",
    "- Name\n",
    "- Vehicle Dealer\n",
    "- Price\n",
    "- Rating\n",
    "- Reviews"
   ]
  },
  {
   "cell_type": "code",
   "execution_count": 2,
   "metadata": {},
   "outputs": [],
   "source": [
    "from bs4 import BeautifulSoup\n",
    "from urllib.request import urlopen\n",
    "import requests\n",
    "import pandas as pd\n",
    "import openpyxl"
   ]
  },
  {
   "cell_type": "code",
   "execution_count": 3,
   "metadata": {},
   "outputs": [],
   "source": [
    "website = 'https://www.cars.com/shopping/results/?stock_type=new&makes%5B%5D=bmw&models%5B%5D=&list_price_max=&maximum_distance=all&zip=='"
   ]
  },
  {
   "cell_type": "code",
   "execution_count": 4,
   "metadata": {},
   "outputs": [
    {
     "data": {
      "text/plain": [
       "200"
      ]
     },
     "execution_count": 4,
     "metadata": {},
     "output_type": "execute_result"
    }
   ],
   "source": [
    "response = requests.get(website)\n",
    "response.status_code"
   ]
  },
  {
   "cell_type": "markdown",
   "metadata": {},
   "source": [
    "## Object to get HTML elements"
   ]
  },
  {
   "cell_type": "code",
   "execution_count": 5,
   "metadata": {},
   "outputs": [],
   "source": [
    "bs = BeautifulSoup(response.content, 'html.parser')"
   ]
  },
  {
   "cell_type": "code",
   "execution_count": 6,
   "metadata": {},
   "outputs": [
    {
     "data": {
      "text/plain": [
       "<h1 class=\"sds-heading--1 sds-page-section__title\">New BMW for sale</h1>"
      ]
     },
     "execution_count": 6,
     "metadata": {},
     "output_type": "execute_result"
    }
   ],
   "source": [
    "bs.h1"
   ]
  },
  {
   "cell_type": "markdown",
   "metadata": {},
   "source": [
    "## Creating list to store details"
   ]
  },
  {
   "cell_type": "code",
   "execution_count": 7,
   "metadata": {},
   "outputs": [],
   "source": [
    "results = bs.find_all('div',{'class' : 'vehicle-card'})"
   ]
  },
  {
   "cell_type": "code",
   "execution_count": 8,
   "metadata": {},
   "outputs": [
    {
     "data": {
      "text/plain": [
       "20"
      ]
     },
     "execution_count": 8,
     "metadata": {},
     "output_type": "execute_result"
    }
   ],
   "source": [
    "len(results)"
   ]
  },
  {
   "cell_type": "markdown",
   "metadata": {},
   "source": [
    "### As we have ony 20 results displaced on the webpage, the 'length' of the variable 'result' is 20."
   ]
  },
  {
   "cell_type": "markdown",
   "metadata": {},
   "source": [
    "## Targeting the data points for the first car\n"
   ]
  },
  {
   "cell_type": "markdown",
   "metadata": {},
   "source": [
    "### Name"
   ]
  },
  {
   "cell_type": "code",
   "execution_count": 9,
   "metadata": {},
   "outputs": [
    {
     "data": {
      "text/plain": [
       "'2022 BMW 330 i'"
      ]
     },
     "execution_count": 9,
     "metadata": {},
     "output_type": "execute_result"
    }
   ],
   "source": [
    "results[0].find('h2').get_text()"
   ]
  },
  {
   "cell_type": "markdown",
   "metadata": {},
   "source": [
    "### Dealer name"
   ]
  },
  {
   "cell_type": "code",
   "execution_count": 10,
   "metadata": {},
   "outputs": [
    {
     "data": {
      "text/plain": [
       "'BMW of Roseville'"
      ]
     },
     "execution_count": 10,
     "metadata": {},
     "output_type": "execute_result"
    }
   ],
   "source": [
    "results[0].find('div',{'class':'dealer-name'}).get_text().strip()"
   ]
  },
  {
   "cell_type": "markdown",
   "metadata": {},
   "source": [
    "### Price"
   ]
  },
  {
   "cell_type": "code",
   "execution_count": 11,
   "metadata": {},
   "outputs": [
    {
     "data": {
      "text/plain": [
       "'$45,730'"
      ]
     },
     "execution_count": 11,
     "metadata": {},
     "output_type": "execute_result"
    }
   ],
   "source": [
    "results[0].find('span',{'class':'primary-price'}).get_text()"
   ]
  },
  {
   "cell_type": "markdown",
   "metadata": {},
   "source": [
    "### Rating"
   ]
  },
  {
   "cell_type": "code",
   "execution_count": 12,
   "metadata": {},
   "outputs": [
    {
     "data": {
      "text/plain": [
       "'4.7'"
      ]
     },
     "execution_count": 12,
     "metadata": {},
     "output_type": "execute_result"
    }
   ],
   "source": [
    "results[0].find('span',{'class':'sds-rating__count'}).get_text()"
   ]
  },
  {
   "cell_type": "markdown",
   "metadata": {},
   "source": [
    "### Reviews"
   ]
  },
  {
   "cell_type": "code",
   "execution_count": 13,
   "metadata": {},
   "outputs": [
    {
     "data": {
      "text/plain": [
       "'(555 reviews)'"
      ]
     },
     "execution_count": 13,
     "metadata": {},
     "output_type": "execute_result"
    }
   ],
   "source": [
    "results[0].find('span',{'class':'sds-rating__link sds-button-link'}).get_text()"
   ]
  },
  {
   "cell_type": "markdown",
   "metadata": {},
   "source": [
    "## Getting data from all the cars listed"
   ]
  },
  {
   "cell_type": "code",
   "execution_count": 14,
   "metadata": {},
   "outputs": [],
   "source": [
    "name = []\n",
    "#model_year = []\n",
    "dealer_name = []\n",
    "rating = []\n",
    "reviews = []\n",
    "price = []\n",
    "\n",
    "for result in results:\n",
    "    \n",
    "    # name\n",
    "    try:\n",
    "        name.append(result.find('h2').get_text()) \n",
    "    except:\n",
    "        name.append('n/a')\n",
    "\n",
    "    '''# model_year\n",
    "    try:\n",
    "        name.append(result.find('h2').get_text()[0:4]) \n",
    "    except:\n",
    "        name.append('n/a')\n",
    "    '''\n",
    "    # dealer_name\n",
    "    try:\n",
    "        dealer_name.append(result.find('div', {'class':'dealer-name'}).get_text().strip())\n",
    "    except:\n",
    "        dealer_name.append('n/a')\n",
    "        \n",
    "    # rating\n",
    "    try:\n",
    "        rating.append(result.find('span', {'class':'sds-rating__count'}).get_text())\n",
    "    except:\n",
    "        rating.append('n/a')\n",
    "    \n",
    "    # reviews\n",
    "    try:\n",
    "        reviews.append(result.find('span', {'class':'sds-rating__link'}).get_text())\n",
    "    except:\n",
    "        reviews.append('n/a')\n",
    "    \n",
    "    # price \n",
    "    try:\n",
    "        price.append(result.find('span', {'class':'primary-price'}).get_text())\n",
    "    except:\n",
    "        price.append('n/a')\n",
    "\n",
    "\n",
    "    "
   ]
  },
  {
   "cell_type": "markdown",
   "metadata": {},
   "source": [
    "## Creating a Dataframe"
   ]
  },
  {
   "cell_type": "code",
   "execution_count": 15,
   "metadata": {},
   "outputs": [],
   "source": [
    "car_dealer = pd.DataFrame({'Name': name, 'Dealer Name':dealer_name,\n",
    "                                'Rating': rating, 'Reviews': reviews, 'Price': price})\n"
   ]
  },
  {
   "cell_type": "code",
   "execution_count": 16,
   "metadata": {},
   "outputs": [
    {
     "data": {
      "text/html": [
       "<div>\n",
       "<style scoped>\n",
       "    .dataframe tbody tr th:only-of-type {\n",
       "        vertical-align: middle;\n",
       "    }\n",
       "\n",
       "    .dataframe tbody tr th {\n",
       "        vertical-align: top;\n",
       "    }\n",
       "\n",
       "    .dataframe thead th {\n",
       "        text-align: right;\n",
       "    }\n",
       "</style>\n",
       "<table border=\"1\" class=\"dataframe\">\n",
       "  <thead>\n",
       "    <tr style=\"text-align: right;\">\n",
       "      <th></th>\n",
       "      <th>Name</th>\n",
       "      <th>Dealer Name</th>\n",
       "      <th>Rating</th>\n",
       "      <th>Reviews</th>\n",
       "      <th>Price</th>\n",
       "    </tr>\n",
       "  </thead>\n",
       "  <tbody>\n",
       "    <tr>\n",
       "      <th>0</th>\n",
       "      <td>2022 BMW 330 i</td>\n",
       "      <td>BMW of Roseville</td>\n",
       "      <td>4.7</td>\n",
       "      <td>(555 reviews)</td>\n",
       "      <td>$45,730</td>\n",
       "    </tr>\n",
       "    <tr>\n",
       "      <th>1</th>\n",
       "      <td>2018 BMW X3 xDrive30i</td>\n",
       "      <td>Basney BMW</td>\n",
       "      <td>5.0</td>\n",
       "      <td>(2 reviews)</td>\n",
       "      <td>$36,463</td>\n",
       "    </tr>\n",
       "    <tr>\n",
       "      <th>2</th>\n",
       "      <td>2021 BMW 330 i</td>\n",
       "      <td>BMW of Vista</td>\n",
       "      <td>4.6</td>\n",
       "      <td>(351 reviews)</td>\n",
       "      <td>$47,120</td>\n",
       "    </tr>\n",
       "    <tr>\n",
       "      <th>3</th>\n",
       "      <td>2022 BMW 330 i</td>\n",
       "      <td>Advantage BMW Midtown</td>\n",
       "      <td>4.4</td>\n",
       "      <td>(535 reviews)</td>\n",
       "      <td>$47,090</td>\n",
       "    </tr>\n",
       "    <tr>\n",
       "      <th>4</th>\n",
       "      <td>2021 BMW 330 i</td>\n",
       "      <td>BMW of Vista</td>\n",
       "      <td>4.6</td>\n",
       "      <td>(351 reviews)</td>\n",
       "      <td>$46,350</td>\n",
       "    </tr>\n",
       "    <tr>\n",
       "      <th>5</th>\n",
       "      <td>2021 BMW 330 i</td>\n",
       "      <td>BMW of Roseville</td>\n",
       "      <td>4.7</td>\n",
       "      <td>(555 reviews)</td>\n",
       "      <td>$45,780</td>\n",
       "    </tr>\n",
       "    <tr>\n",
       "      <th>6</th>\n",
       "      <td>2021 BMW 228 Gran Coupe 228i sDrive Gran Coupe</td>\n",
       "      <td>BMW of Corpus Christi</td>\n",
       "      <td>4.7</td>\n",
       "      <td>(267 reviews)</td>\n",
       "      <td>$39,145</td>\n",
       "    </tr>\n",
       "    <tr>\n",
       "      <th>7</th>\n",
       "      <td>2021 BMW 228 Gran Coupe i xDrive</td>\n",
       "      <td>Erhard BMW of Bloomfield Hills</td>\n",
       "      <td>4.8</td>\n",
       "      <td>(839 reviews)</td>\n",
       "      <td>$43,380</td>\n",
       "    </tr>\n",
       "    <tr>\n",
       "      <th>8</th>\n",
       "      <td>2021 BMW X3 sDrive30i</td>\n",
       "      <td>Santa Barbara Auto Group</td>\n",
       "      <td>3.4</td>\n",
       "      <td>(20 reviews)</td>\n",
       "      <td>Not Priced</td>\n",
       "    </tr>\n",
       "    <tr>\n",
       "      <th>9</th>\n",
       "      <td>2021 BMW X3 xDrive30i</td>\n",
       "      <td>Santa Barbara Auto Group</td>\n",
       "      <td>3.4</td>\n",
       "      <td>(20 reviews)</td>\n",
       "      <td>Not Priced</td>\n",
       "    </tr>\n",
       "  </tbody>\n",
       "</table>\n",
       "</div>"
      ],
      "text/plain": [
       "                                             Name  \\\n",
       "0                                  2022 BMW 330 i   \n",
       "1                           2018 BMW X3 xDrive30i   \n",
       "2                                  2021 BMW 330 i   \n",
       "3                                  2022 BMW 330 i   \n",
       "4                                  2021 BMW 330 i   \n",
       "5                                  2021 BMW 330 i   \n",
       "6  2021 BMW 228 Gran Coupe 228i sDrive Gran Coupe   \n",
       "7                2021 BMW 228 Gran Coupe i xDrive   \n",
       "8                           2021 BMW X3 sDrive30i   \n",
       "9                           2021 BMW X3 xDrive30i   \n",
       "\n",
       "                      Dealer Name Rating        Reviews       Price  \n",
       "0                BMW of Roseville    4.7  (555 reviews)     $45,730  \n",
       "1                      Basney BMW    5.0    (2 reviews)     $36,463  \n",
       "2                    BMW of Vista    4.6  (351 reviews)     $47,120  \n",
       "3           Advantage BMW Midtown    4.4  (535 reviews)     $47,090  \n",
       "4                    BMW of Vista    4.6  (351 reviews)     $46,350  \n",
       "5                BMW of Roseville    4.7  (555 reviews)     $45,780  \n",
       "6           BMW of Corpus Christi    4.7  (267 reviews)     $39,145  \n",
       "7  Erhard BMW of Bloomfield Hills    4.8  (839 reviews)     $43,380  \n",
       "8        Santa Barbara Auto Group    3.4   (20 reviews)  Not Priced  \n",
       "9        Santa Barbara Auto Group    3.4   (20 reviews)  Not Priced  "
      ]
     },
     "execution_count": 16,
     "metadata": {},
     "output_type": "execute_result"
    }
   ],
   "source": [
    "car_dealer.head(10)"
   ]
  },
  {
   "cell_type": "markdown",
   "metadata": {},
   "source": [
    "## Cleaning Reviews Column"
   ]
  },
  {
   "cell_type": "code",
   "execution_count": 17,
   "metadata": {},
   "outputs": [],
   "source": [
    "car_dealer['Reviews'] = car_dealer['Reviews'].apply(lambda x: x.strip('reviews)').strip('('))"
   ]
  },
  {
   "cell_type": "code",
   "execution_count": 18,
   "metadata": {},
   "outputs": [
    {
     "data": {
      "text/html": [
       "<div>\n",
       "<style scoped>\n",
       "    .dataframe tbody tr th:only-of-type {\n",
       "        vertical-align: middle;\n",
       "    }\n",
       "\n",
       "    .dataframe tbody tr th {\n",
       "        vertical-align: top;\n",
       "    }\n",
       "\n",
       "    .dataframe thead th {\n",
       "        text-align: right;\n",
       "    }\n",
       "</style>\n",
       "<table border=\"1\" class=\"dataframe\">\n",
       "  <thead>\n",
       "    <tr style=\"text-align: right;\">\n",
       "      <th></th>\n",
       "      <th>Name</th>\n",
       "      <th>Dealer Name</th>\n",
       "      <th>Rating</th>\n",
       "      <th>Reviews</th>\n",
       "      <th>Price</th>\n",
       "    </tr>\n",
       "  </thead>\n",
       "  <tbody>\n",
       "    <tr>\n",
       "      <th>0</th>\n",
       "      <td>2022 BMW 330 i</td>\n",
       "      <td>BMW of Roseville</td>\n",
       "      <td>4.7</td>\n",
       "      <td>555</td>\n",
       "      <td>$45,730</td>\n",
       "    </tr>\n",
       "    <tr>\n",
       "      <th>1</th>\n",
       "      <td>2018 BMW X3 xDrive30i</td>\n",
       "      <td>Basney BMW</td>\n",
       "      <td>5.0</td>\n",
       "      <td>2</td>\n",
       "      <td>$36,463</td>\n",
       "    </tr>\n",
       "    <tr>\n",
       "      <th>2</th>\n",
       "      <td>2021 BMW 330 i</td>\n",
       "      <td>BMW of Vista</td>\n",
       "      <td>4.6</td>\n",
       "      <td>351</td>\n",
       "      <td>$47,120</td>\n",
       "    </tr>\n",
       "    <tr>\n",
       "      <th>3</th>\n",
       "      <td>2022 BMW 330 i</td>\n",
       "      <td>Advantage BMW Midtown</td>\n",
       "      <td>4.4</td>\n",
       "      <td>535</td>\n",
       "      <td>$47,090</td>\n",
       "    </tr>\n",
       "    <tr>\n",
       "      <th>4</th>\n",
       "      <td>2021 BMW 330 i</td>\n",
       "      <td>BMW of Vista</td>\n",
       "      <td>4.6</td>\n",
       "      <td>351</td>\n",
       "      <td>$46,350</td>\n",
       "    </tr>\n",
       "    <tr>\n",
       "      <th>5</th>\n",
       "      <td>2021 BMW 330 i</td>\n",
       "      <td>BMW of Roseville</td>\n",
       "      <td>4.7</td>\n",
       "      <td>555</td>\n",
       "      <td>$45,780</td>\n",
       "    </tr>\n",
       "    <tr>\n",
       "      <th>6</th>\n",
       "      <td>2021 BMW 228 Gran Coupe 228i sDrive Gran Coupe</td>\n",
       "      <td>BMW of Corpus Christi</td>\n",
       "      <td>4.7</td>\n",
       "      <td>267</td>\n",
       "      <td>$39,145</td>\n",
       "    </tr>\n",
       "    <tr>\n",
       "      <th>7</th>\n",
       "      <td>2021 BMW 228 Gran Coupe i xDrive</td>\n",
       "      <td>Erhard BMW of Bloomfield Hills</td>\n",
       "      <td>4.8</td>\n",
       "      <td>839</td>\n",
       "      <td>$43,380</td>\n",
       "    </tr>\n",
       "    <tr>\n",
       "      <th>8</th>\n",
       "      <td>2021 BMW X3 sDrive30i</td>\n",
       "      <td>Santa Barbara Auto Group</td>\n",
       "      <td>3.4</td>\n",
       "      <td>20</td>\n",
       "      <td>Not Priced</td>\n",
       "    </tr>\n",
       "    <tr>\n",
       "      <th>9</th>\n",
       "      <td>2021 BMW X3 xDrive30i</td>\n",
       "      <td>Santa Barbara Auto Group</td>\n",
       "      <td>3.4</td>\n",
       "      <td>20</td>\n",
       "      <td>Not Priced</td>\n",
       "    </tr>\n",
       "    <tr>\n",
       "      <th>10</th>\n",
       "      <td>2021 BMW X1 sDrive28i</td>\n",
       "      <td>BMW of Palm Springs</td>\n",
       "      <td>4.8</td>\n",
       "      <td>516</td>\n",
       "      <td>$40,315</td>\n",
       "    </tr>\n",
       "    <tr>\n",
       "      <th>11</th>\n",
       "      <td>2021 BMW 330 i</td>\n",
       "      <td>BMW of Roseville</td>\n",
       "      <td>4.7</td>\n",
       "      <td>555</td>\n",
       "      <td>$46,170</td>\n",
       "    </tr>\n",
       "    <tr>\n",
       "      <th>12</th>\n",
       "      <td>2021 BMW X3 sDrive30i</td>\n",
       "      <td>Nick Alexander Imports</td>\n",
       "      <td>4.8</td>\n",
       "      <td>226</td>\n",
       "      <td>$47,670</td>\n",
       "    </tr>\n",
       "    <tr>\n",
       "      <th>13</th>\n",
       "      <td>2021 BMW 330 i</td>\n",
       "      <td>BMW of Roseville</td>\n",
       "      <td>4.7</td>\n",
       "      <td>555</td>\n",
       "      <td>$47,200</td>\n",
       "    </tr>\n",
       "    <tr>\n",
       "      <th>14</th>\n",
       "      <td>2021 BMW 330 i</td>\n",
       "      <td>BMW of Palm Springs</td>\n",
       "      <td>4.8</td>\n",
       "      <td>516</td>\n",
       "      <td>$45,095</td>\n",
       "    </tr>\n",
       "    <tr>\n",
       "      <th>15</th>\n",
       "      <td>2021 BMW 330 i xDrive</td>\n",
       "      <td>BMW Portland</td>\n",
       "      <td>4.8</td>\n",
       "      <td>1,018</td>\n",
       "      <td>$47,480</td>\n",
       "    </tr>\n",
       "    <tr>\n",
       "      <th>16</th>\n",
       "      <td>2021 BMW X1 sDrive28i</td>\n",
       "      <td>BMW of El Paso</td>\n",
       "      <td>4.4</td>\n",
       "      <td>133</td>\n",
       "      <td>$43,595</td>\n",
       "    </tr>\n",
       "    <tr>\n",
       "      <th>17</th>\n",
       "      <td>2020 BMW 228 Gran Coupe i xDrive</td>\n",
       "      <td>BMW of El Cajon</td>\n",
       "      <td>4.8</td>\n",
       "      <td>537</td>\n",
       "      <td>$43,995</td>\n",
       "    </tr>\n",
       "    <tr>\n",
       "      <th>18</th>\n",
       "      <td>2021 BMW X1 xDrive28i</td>\n",
       "      <td>BMW of Fairfield</td>\n",
       "      <td>n/a</td>\n",
       "      <td>n/a</td>\n",
       "      <td>$46,530</td>\n",
       "    </tr>\n",
       "    <tr>\n",
       "      <th>19</th>\n",
       "      <td>2021 BMW X1 sDrive28i</td>\n",
       "      <td>Braman Motors Miami</td>\n",
       "      <td>4.8</td>\n",
       "      <td>2,638</td>\n",
       "      <td>$40,685</td>\n",
       "    </tr>\n",
       "  </tbody>\n",
       "</table>\n",
       "</div>"
      ],
      "text/plain": [
       "                                              Name  \\\n",
       "0                                   2022 BMW 330 i   \n",
       "1                            2018 BMW X3 xDrive30i   \n",
       "2                                   2021 BMW 330 i   \n",
       "3                                   2022 BMW 330 i   \n",
       "4                                   2021 BMW 330 i   \n",
       "5                                   2021 BMW 330 i   \n",
       "6   2021 BMW 228 Gran Coupe 228i sDrive Gran Coupe   \n",
       "7                 2021 BMW 228 Gran Coupe i xDrive   \n",
       "8                            2021 BMW X3 sDrive30i   \n",
       "9                            2021 BMW X3 xDrive30i   \n",
       "10                           2021 BMW X1 sDrive28i   \n",
       "11                                  2021 BMW 330 i   \n",
       "12                           2021 BMW X3 sDrive30i   \n",
       "13                                  2021 BMW 330 i   \n",
       "14                                  2021 BMW 330 i   \n",
       "15                           2021 BMW 330 i xDrive   \n",
       "16                           2021 BMW X1 sDrive28i   \n",
       "17                2020 BMW 228 Gran Coupe i xDrive   \n",
       "18                           2021 BMW X1 xDrive28i   \n",
       "19                           2021 BMW X1 sDrive28i   \n",
       "\n",
       "                       Dealer Name Rating Reviews       Price  \n",
       "0                 BMW of Roseville    4.7    555      $45,730  \n",
       "1                       Basney BMW    5.0      2      $36,463  \n",
       "2                     BMW of Vista    4.6    351      $47,120  \n",
       "3            Advantage BMW Midtown    4.4    535      $47,090  \n",
       "4                     BMW of Vista    4.6    351      $46,350  \n",
       "5                 BMW of Roseville    4.7    555      $45,780  \n",
       "6            BMW of Corpus Christi    4.7    267      $39,145  \n",
       "7   Erhard BMW of Bloomfield Hills    4.8    839      $43,380  \n",
       "8         Santa Barbara Auto Group    3.4     20   Not Priced  \n",
       "9         Santa Barbara Auto Group    3.4     20   Not Priced  \n",
       "10             BMW of Palm Springs    4.8    516      $40,315  \n",
       "11                BMW of Roseville    4.7    555      $46,170  \n",
       "12          Nick Alexander Imports    4.8    226      $47,670  \n",
       "13                BMW of Roseville    4.7    555      $47,200  \n",
       "14             BMW of Palm Springs    4.8    516      $45,095  \n",
       "15                    BMW Portland    4.8  1,018      $47,480  \n",
       "16                  BMW of El Paso    4.4    133      $43,595  \n",
       "17                 BMW of El Cajon    4.8    537      $43,995  \n",
       "18                BMW of Fairfield    n/a     n/a     $46,530  \n",
       "19             Braman Motors Miami    4.8  2,638      $40,685  "
      ]
     },
     "execution_count": 18,
     "metadata": {},
     "output_type": "execute_result"
    }
   ],
   "source": [
    "car_dealer"
   ]
  },
  {
   "cell_type": "markdown",
   "metadata": {},
   "source": [
    "## Storing it in Excel"
   ]
  },
  {
   "cell_type": "code",
   "execution_count": 19,
   "metadata": {},
   "outputs": [],
   "source": [
    "car_dealer.to_excel('single_car_page.xlsx', index = False)"
   ]
  },
  {
   "cell_type": "markdown",
   "metadata": {},
   "source": [
    "## Pagination - For multiple pages"
   ]
  },
  {
   "cell_type": "code",
   "execution_count": 20,
   "metadata": {},
   "outputs": [],
   "source": [
    "name = []\n",
    "#model_year = []\n",
    "dealer_name = []\n",
    "rating = []\n",
    "reviews = []\n",
    "price = []\n",
    "\n",
    "for i in range(1,21):\n",
    "    \n",
    "    #website\n",
    "    website = 'https://www.cars.com/shopping/results/?page=' + str(i) + '&page_size=20&list_price_max=&makes[]=bmw&maximum_distance=all&models[]=&stock_type=new&zip='\n",
    "\n",
    "    #response\n",
    "    response = requests.get(website)\n",
    "\n",
    "    #soup object\n",
    "    bs = BeautifulSoup(response.content, 'html.parser')\n",
    "\n",
    "    #results\n",
    "    results = bs.find_all('div',{'class' : 'vehicle-card'})\n",
    "    \n",
    "    for result in results:\n",
    "\n",
    "        # name\n",
    "        try:\n",
    "            name.append(result.find('h2').get_text()) \n",
    "        except:\n",
    "            name.append('n/a')\n",
    "\n",
    "        '''# model_year\n",
    "        try:\n",
    "            name.append(result.find('h2').get_text()[0:4]) \n",
    "        except:\n",
    "            name.append('n/a')\n",
    "        '''\n",
    "        # dealer_name\n",
    "        try:\n",
    "            dealer_name.append(result.find('div', {'class':'dealer-name'}).get_text().strip())\n",
    "        except:\n",
    "            dealer_name.append('n/a')\n",
    "            \n",
    "        # rating\n",
    "        try:\n",
    "            rating.append(result.find('span', {'class':'sds-rating__count'}).get_text())\n",
    "        except:\n",
    "            rating.append('n/a')\n",
    "        \n",
    "        # reviews\n",
    "        try:\n",
    "            reviews.append(result.find('span', {'class':'sds-rating__link'}).get_text())\n",
    "        except:\n",
    "            reviews.append('n/a')\n",
    "        \n",
    "        # price \n",
    "        try:\n",
    "            price.append(result.find('span', {'class':'primary-price'}).get_text())\n",
    "        except:\n",
    "            price.append('n/a')\n"
   ]
  },
  {
   "cell_type": "markdown",
   "metadata": {},
   "source": [
    "## Creating a Dataframe"
   ]
  },
  {
   "cell_type": "code",
   "execution_count": 21,
   "metadata": {},
   "outputs": [],
   "source": [
    "car_dealer = pd.DataFrame({'Name': name, 'Dealer Name':dealer_name,\n",
    "                                'Rating': rating, 'Reviews': reviews, 'Price': price})"
   ]
  },
  {
   "cell_type": "code",
   "execution_count": 22,
   "metadata": {},
   "outputs": [
    {
     "data": {
      "text/html": [
       "<div>\n",
       "<style scoped>\n",
       "    .dataframe tbody tr th:only-of-type {\n",
       "        vertical-align: middle;\n",
       "    }\n",
       "\n",
       "    .dataframe tbody tr th {\n",
       "        vertical-align: top;\n",
       "    }\n",
       "\n",
       "    .dataframe thead th {\n",
       "        text-align: right;\n",
       "    }\n",
       "</style>\n",
       "<table border=\"1\" class=\"dataframe\">\n",
       "  <thead>\n",
       "    <tr style=\"text-align: right;\">\n",
       "      <th></th>\n",
       "      <th>Name</th>\n",
       "      <th>Dealer Name</th>\n",
       "      <th>Rating</th>\n",
       "      <th>Reviews</th>\n",
       "      <th>Price</th>\n",
       "    </tr>\n",
       "  </thead>\n",
       "  <tbody>\n",
       "    <tr>\n",
       "      <th>0</th>\n",
       "      <td>2022 BMW 330 i</td>\n",
       "      <td>BMW of Roseville</td>\n",
       "      <td>4.7</td>\n",
       "      <td>(555 reviews)</td>\n",
       "      <td>$45,730</td>\n",
       "    </tr>\n",
       "    <tr>\n",
       "      <th>1</th>\n",
       "      <td>2018 BMW X3 xDrive30i</td>\n",
       "      <td>Basney BMW</td>\n",
       "      <td>5.0</td>\n",
       "      <td>(2 reviews)</td>\n",
       "      <td>$36,463</td>\n",
       "    </tr>\n",
       "    <tr>\n",
       "      <th>2</th>\n",
       "      <td>2021 BMW 330 i</td>\n",
       "      <td>BMW of Vista</td>\n",
       "      <td>4.6</td>\n",
       "      <td>(351 reviews)</td>\n",
       "      <td>$47,120</td>\n",
       "    </tr>\n",
       "    <tr>\n",
       "      <th>3</th>\n",
       "      <td>2022 BMW 330 i</td>\n",
       "      <td>Advantage BMW Midtown</td>\n",
       "      <td>4.4</td>\n",
       "      <td>(535 reviews)</td>\n",
       "      <td>$47,090</td>\n",
       "    </tr>\n",
       "    <tr>\n",
       "      <th>4</th>\n",
       "      <td>2021 BMW 330 i</td>\n",
       "      <td>BMW of Vista</td>\n",
       "      <td>4.6</td>\n",
       "      <td>(351 reviews)</td>\n",
       "      <td>$46,350</td>\n",
       "    </tr>\n",
       "    <tr>\n",
       "      <th>5</th>\n",
       "      <td>2021 BMW 330 i</td>\n",
       "      <td>BMW of Roseville</td>\n",
       "      <td>4.7</td>\n",
       "      <td>(555 reviews)</td>\n",
       "      <td>$45,780</td>\n",
       "    </tr>\n",
       "    <tr>\n",
       "      <th>6</th>\n",
       "      <td>2021 BMW 228 Gran Coupe 228i sDrive Gran Coupe</td>\n",
       "      <td>BMW of Corpus Christi</td>\n",
       "      <td>4.7</td>\n",
       "      <td>(267 reviews)</td>\n",
       "      <td>$39,145</td>\n",
       "    </tr>\n",
       "    <tr>\n",
       "      <th>7</th>\n",
       "      <td>2021 BMW 228 Gran Coupe i xDrive</td>\n",
       "      <td>Erhard BMW of Bloomfield Hills</td>\n",
       "      <td>4.8</td>\n",
       "      <td>(839 reviews)</td>\n",
       "      <td>$43,380</td>\n",
       "    </tr>\n",
       "    <tr>\n",
       "      <th>8</th>\n",
       "      <td>2021 BMW X3 sDrive30i</td>\n",
       "      <td>Santa Barbara Auto Group</td>\n",
       "      <td>3.4</td>\n",
       "      <td>(20 reviews)</td>\n",
       "      <td>Not Priced</td>\n",
       "    </tr>\n",
       "    <tr>\n",
       "      <th>9</th>\n",
       "      <td>2021 BMW X3 xDrive30i</td>\n",
       "      <td>Santa Barbara Auto Group</td>\n",
       "      <td>3.4</td>\n",
       "      <td>(20 reviews)</td>\n",
       "      <td>Not Priced</td>\n",
       "    </tr>\n",
       "  </tbody>\n",
       "</table>\n",
       "</div>"
      ],
      "text/plain": [
       "                                             Name  \\\n",
       "0                                  2022 BMW 330 i   \n",
       "1                           2018 BMW X3 xDrive30i   \n",
       "2                                  2021 BMW 330 i   \n",
       "3                                  2022 BMW 330 i   \n",
       "4                                  2021 BMW 330 i   \n",
       "5                                  2021 BMW 330 i   \n",
       "6  2021 BMW 228 Gran Coupe 228i sDrive Gran Coupe   \n",
       "7                2021 BMW 228 Gran Coupe i xDrive   \n",
       "8                           2021 BMW X3 sDrive30i   \n",
       "9                           2021 BMW X3 xDrive30i   \n",
       "\n",
       "                      Dealer Name Rating        Reviews       Price  \n",
       "0                BMW of Roseville    4.7  (555 reviews)     $45,730  \n",
       "1                      Basney BMW    5.0    (2 reviews)     $36,463  \n",
       "2                    BMW of Vista    4.6  (351 reviews)     $47,120  \n",
       "3           Advantage BMW Midtown    4.4  (535 reviews)     $47,090  \n",
       "4                    BMW of Vista    4.6  (351 reviews)     $46,350  \n",
       "5                BMW of Roseville    4.7  (555 reviews)     $45,780  \n",
       "6           BMW of Corpus Christi    4.7  (267 reviews)     $39,145  \n",
       "7  Erhard BMW of Bloomfield Hills    4.8  (839 reviews)     $43,380  \n",
       "8        Santa Barbara Auto Group    3.4   (20 reviews)  Not Priced  \n",
       "9        Santa Barbara Auto Group    3.4   (20 reviews)  Not Priced  "
      ]
     },
     "execution_count": 22,
     "metadata": {},
     "output_type": "execute_result"
    }
   ],
   "source": [
    "car_dealer.head(10)"
   ]
  },
  {
   "cell_type": "markdown",
   "metadata": {},
   "source": [
    "## Checking the data"
   ]
  },
  {
   "cell_type": "code",
   "execution_count": 23,
   "metadata": {},
   "outputs": [
    {
     "name": "stdout",
     "output_type": "stream",
     "text": [
      "<class 'pandas.core.frame.DataFrame'>\n",
      "RangeIndex: 398 entries, 0 to 397\n",
      "Data columns (total 5 columns):\n",
      " #   Column       Non-Null Count  Dtype \n",
      "---  ------       --------------  ----- \n",
      " 0   Name         398 non-null    object\n",
      " 1   Dealer Name  398 non-null    object\n",
      " 2   Rating       398 non-null    object\n",
      " 3   Reviews      398 non-null    object\n",
      " 4   Price        398 non-null    object\n",
      "dtypes: object(5)\n",
      "memory usage: 15.7+ KB\n"
     ]
    }
   ],
   "source": [
    "car_dealer.info()"
   ]
  },
  {
   "cell_type": "markdown",
   "metadata": {},
   "source": [
    "## Cleaning Reviews Column"
   ]
  },
  {
   "cell_type": "code",
   "execution_count": 24,
   "metadata": {},
   "outputs": [],
   "source": [
    "car_dealer['Reviews'] = car_dealer['Reviews'].apply(lambda x: x.strip('reviews)').strip('('))"
   ]
  },
  {
   "cell_type": "code",
   "execution_count": 25,
   "metadata": {},
   "outputs": [
    {
     "data": {
      "text/html": [
       "<div>\n",
       "<style scoped>\n",
       "    .dataframe tbody tr th:only-of-type {\n",
       "        vertical-align: middle;\n",
       "    }\n",
       "\n",
       "    .dataframe tbody tr th {\n",
       "        vertical-align: top;\n",
       "    }\n",
       "\n",
       "    .dataframe thead th {\n",
       "        text-align: right;\n",
       "    }\n",
       "</style>\n",
       "<table border=\"1\" class=\"dataframe\">\n",
       "  <thead>\n",
       "    <tr style=\"text-align: right;\">\n",
       "      <th></th>\n",
       "      <th>Name</th>\n",
       "      <th>Dealer Name</th>\n",
       "      <th>Rating</th>\n",
       "      <th>Reviews</th>\n",
       "      <th>Price</th>\n",
       "    </tr>\n",
       "  </thead>\n",
       "  <tbody>\n",
       "    <tr>\n",
       "      <th>0</th>\n",
       "      <td>2022 BMW 330 i</td>\n",
       "      <td>BMW of Roseville</td>\n",
       "      <td>4.7</td>\n",
       "      <td>555</td>\n",
       "      <td>$45,730</td>\n",
       "    </tr>\n",
       "    <tr>\n",
       "      <th>1</th>\n",
       "      <td>2018 BMW X3 xDrive30i</td>\n",
       "      <td>Basney BMW</td>\n",
       "      <td>5.0</td>\n",
       "      <td>2</td>\n",
       "      <td>$36,463</td>\n",
       "    </tr>\n",
       "    <tr>\n",
       "      <th>2</th>\n",
       "      <td>2021 BMW 330 i</td>\n",
       "      <td>BMW of Vista</td>\n",
       "      <td>4.6</td>\n",
       "      <td>351</td>\n",
       "      <td>$47,120</td>\n",
       "    </tr>\n",
       "    <tr>\n",
       "      <th>3</th>\n",
       "      <td>2022 BMW 330 i</td>\n",
       "      <td>Advantage BMW Midtown</td>\n",
       "      <td>4.4</td>\n",
       "      <td>535</td>\n",
       "      <td>$47,090</td>\n",
       "    </tr>\n",
       "    <tr>\n",
       "      <th>4</th>\n",
       "      <td>2021 BMW 330 i</td>\n",
       "      <td>BMW of Vista</td>\n",
       "      <td>4.6</td>\n",
       "      <td>351</td>\n",
       "      <td>$46,350</td>\n",
       "    </tr>\n",
       "    <tr>\n",
       "      <th>...</th>\n",
       "      <td>...</td>\n",
       "      <td>...</td>\n",
       "      <td>...</td>\n",
       "      <td>...</td>\n",
       "      <td>...</td>\n",
       "    </tr>\n",
       "    <tr>\n",
       "      <th>393</th>\n",
       "      <td>2021 BMW 330 i xDrive</td>\n",
       "      <td>Kuni BMW</td>\n",
       "      <td>4.7</td>\n",
       "      <td>1,347</td>\n",
       "      <td>$47,275</td>\n",
       "    </tr>\n",
       "    <tr>\n",
       "      <th>394</th>\n",
       "      <td>2021 BMW X4 xDrive30i</td>\n",
       "      <td>Steve Thomas BMW</td>\n",
       "      <td>4.1</td>\n",
       "      <td>110</td>\n",
       "      <td>$55,560</td>\n",
       "    </tr>\n",
       "    <tr>\n",
       "      <th>395</th>\n",
       "      <td>2021 BMW 330 i</td>\n",
       "      <td>BMW of Honolulu</td>\n",
       "      <td>4.5</td>\n",
       "      <td>283</td>\n",
       "      <td>$46,050</td>\n",
       "    </tr>\n",
       "    <tr>\n",
       "      <th>396</th>\n",
       "      <td>2022 BMW Z4 sDrive30i</td>\n",
       "      <td>BMW of Norwood</td>\n",
       "      <td>4.8</td>\n",
       "      <td>459</td>\n",
       "      <td>$56,680</td>\n",
       "    </tr>\n",
       "    <tr>\n",
       "      <th>397</th>\n",
       "      <td>2022 BMW M340 i xDrive</td>\n",
       "      <td>BMW Seattle</td>\n",
       "      <td>4.8</td>\n",
       "      <td>819</td>\n",
       "      <td>$64,865</td>\n",
       "    </tr>\n",
       "  </tbody>\n",
       "</table>\n",
       "<p>398 rows × 5 columns</p>\n",
       "</div>"
      ],
      "text/plain": [
       "                       Name            Dealer Name Rating Reviews    Price\n",
       "0            2022 BMW 330 i       BMW of Roseville    4.7    555   $45,730\n",
       "1     2018 BMW X3 xDrive30i             Basney BMW    5.0      2   $36,463\n",
       "2            2021 BMW 330 i           BMW of Vista    4.6    351   $47,120\n",
       "3            2022 BMW 330 i  Advantage BMW Midtown    4.4    535   $47,090\n",
       "4            2021 BMW 330 i           BMW of Vista    4.6    351   $46,350\n",
       "..                      ...                    ...    ...     ...      ...\n",
       "393   2021 BMW 330 i xDrive               Kuni BMW    4.7  1,347   $47,275\n",
       "394   2021 BMW X4 xDrive30i       Steve Thomas BMW    4.1    110   $55,560\n",
       "395          2021 BMW 330 i        BMW of Honolulu    4.5    283   $46,050\n",
       "396   2022 BMW Z4 sDrive30i         BMW of Norwood    4.8    459   $56,680\n",
       "397  2022 BMW M340 i xDrive            BMW Seattle    4.8    819   $64,865\n",
       "\n",
       "[398 rows x 5 columns]"
      ]
     },
     "execution_count": 25,
     "metadata": {},
     "output_type": "execute_result"
    }
   ],
   "source": [
    "car_dealer"
   ]
  },
  {
   "cell_type": "markdown",
   "metadata": {},
   "source": [
    "## Storing it to Excel"
   ]
  },
  {
   "cell_type": "code",
   "execution_count": 26,
   "metadata": {},
   "outputs": [],
   "source": [
    "car_dealer.to_excel('multiple_car_page.xlsx', index = False)"
   ]
  },
  {
   "cell_type": "code",
   "execution_count": null,
   "metadata": {},
   "outputs": [],
   "source": []
  }
 ],
 "metadata": {
  "interpreter": {
   "hash": "3fa70447f6c39cb8684e960899af163ac1be1cc7141a88cd45973becac2b3a47"
  },
  "kernelspec": {
   "display_name": "Python 3.9.5 64-bit",
   "name": "python3"
  },
  "language_info": {
   "codemirror_mode": {
    "name": "ipython",
    "version": 3
   },
   "file_extension": ".py",
   "mimetype": "text/x-python",
   "name": "python",
   "nbconvert_exporter": "python",
   "pygments_lexer": "ipython3",
   "version": "3.9.5"
  },
  "orig_nbformat": 4
 },
 "nbformat": 4,
 "nbformat_minor": 2
}
