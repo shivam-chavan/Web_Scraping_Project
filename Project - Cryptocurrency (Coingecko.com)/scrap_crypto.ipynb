{
 "cells": [
  {
   "cell_type": "markdown",
   "metadata": {},
   "source": [
    "# Web Scraping"
   ]
  },
  {
   "cell_type": "markdown",
   "metadata": {},
   "source": [
    "## Scraping Cryptocurrency Prices on 'coingecko.com'\n",
    "## Data Points \n",
    "- Name\n",
    "- Price\n",
    "- 1h Change\n",
    "- 24h Change\n",
    "- 7Day Change\n",
    "- 24h Volume\n",
    "- Market Cap"
   ]
  },
  {
   "cell_type": "markdown",
   "metadata": {},
   "source": [
    "### Importing libraries"
   ]
  },
  {
   "cell_type": "code",
   "execution_count": 1,
   "metadata": {},
   "outputs": [],
   "source": [
    "from bs4 import BeautifulSoup\n",
    "import requests\n",
    "import pandas as pd\n",
    "import openpyxl"
   ]
  },
  {
   "cell_type": "code",
   "execution_count": 2,
   "metadata": {},
   "outputs": [],
   "source": [
    "website = 'https://www.coingecko.com/en'"
   ]
  },
  {
   "cell_type": "markdown",
   "metadata": {},
   "source": [
    "### Request"
   ]
  },
  {
   "cell_type": "code",
   "execution_count": 3,
   "metadata": {},
   "outputs": [
    {
     "data": {
      "text/plain": [
       "200"
      ]
     },
     "execution_count": 3,
     "metadata": {},
     "output_type": "execute_result"
    }
   ],
   "source": [
    "response = requests.get(website)\n",
    "response.status_code"
   ]
  },
  {
   "cell_type": "markdown",
   "metadata": {},
   "source": [
    "### Creating Soup object"
   ]
  },
  {
   "cell_type": "code",
   "execution_count": 4,
   "metadata": {},
   "outputs": [],
   "source": [
    "bs = BeautifulSoup(response.content,'html.parser')"
   ]
  },
  {
   "cell_type": "code",
   "execution_count": 5,
   "metadata": {},
   "outputs": [
    {
     "data": {
      "text/plain": [
       "<h1 class=\"tw-text-xl tw-mb-2 tw-mr-2 tw-pb-0 tw-mb-0 tw-text-gray-700 tw-font-bold dark:tw-text-white md:tw-text-2xl\">\n",
       "Cryptocurrency Prices by Market Cap\n",
       "</h1>"
      ]
     },
     "execution_count": 5,
     "metadata": {},
     "output_type": "execute_result"
    }
   ],
   "source": [
    "bs.h1"
   ]
  },
  {
   "cell_type": "markdown",
   "metadata": {},
   "source": [
    "### Creating List to store details"
   ]
  },
  {
   "cell_type": "code",
   "execution_count": 6,
   "metadata": {},
   "outputs": [],
   "source": [
    "results = bs.find('table',{'class' : 'table-scrollable'}).find('tbody').find_all('tr')"
   ]
  },
  {
   "cell_type": "code",
   "execution_count": 7,
   "metadata": {},
   "outputs": [
    {
     "data": {
      "text/plain": [
       "100"
      ]
     },
     "execution_count": 7,
     "metadata": {},
     "output_type": "execute_result"
    }
   ],
   "source": [
    "len(results)"
   ]
  },
  {
   "cell_type": "markdown",
   "metadata": {},
   "source": [
    "### There are only 100 results displayed on the webpage"
   ]
  },
  {
   "cell_type": "markdown",
   "metadata": {},
   "source": [
    "### Targeting the Data points"
   ]
  },
  {
   "cell_type": "markdown",
   "metadata": {},
   "source": [
    "### Name"
   ]
  },
  {
   "cell_type": "code",
   "execution_count": 8,
   "metadata": {},
   "outputs": [
    {
     "data": {
      "text/plain": [
       "'Bitcoin'"
      ]
     },
     "execution_count": 8,
     "metadata": {},
     "output_type": "execute_result"
    }
   ],
   "source": [
    "results[0].find('a', {'class' : 'tw-hidden lg:tw-flex font-bold tw-items-center tw-justify-between'}).get_text().strip()"
   ]
  },
  {
   "cell_type": "markdown",
   "metadata": {},
   "source": [
    "### Price"
   ]
  },
  {
   "cell_type": "code",
   "execution_count": 9,
   "metadata": {},
   "outputs": [
    {
     "data": {
      "text/plain": [
       "'$66,824'"
      ]
     },
     "execution_count": 9,
     "metadata": {},
     "output_type": "execute_result"
    }
   ],
   "source": [
    "results[0].find('td', {'class' : 'td-price'}).get_text().strip()"
   ]
  },
  {
   "cell_type": "markdown",
   "metadata": {},
   "source": [
    "### 1h Change"
   ]
  },
  {
   "cell_type": "code",
   "execution_count": 10,
   "metadata": {},
   "outputs": [
    {
     "data": {
      "text/plain": [
       "'0.2%'"
      ]
     },
     "execution_count": 10,
     "metadata": {},
     "output_type": "execute_result"
    }
   ],
   "source": [
    "results[0].find('td', {'class' : 'td-change1h'}).get_text().strip()"
   ]
  },
  {
   "cell_type": "markdown",
   "metadata": {},
   "source": [
    "### 24h Change"
   ]
  },
  {
   "cell_type": "code",
   "execution_count": 11,
   "metadata": {},
   "outputs": [
    {
     "data": {
      "text/plain": [
       "'5.1%'"
      ]
     },
     "execution_count": 11,
     "metadata": {},
     "output_type": "execute_result"
    }
   ],
   "source": [
    "results[0].find('td', {'class' : 'td-change24h'}).get_text().strip()"
   ]
  },
  {
   "cell_type": "markdown",
   "metadata": {},
   "source": [
    "### 7day Change"
   ]
  },
  {
   "cell_type": "code",
   "execution_count": 12,
   "metadata": {},
   "outputs": [
    {
     "data": {
      "text/plain": [
       "'18.6%'"
      ]
     },
     "execution_count": 12,
     "metadata": {},
     "output_type": "execute_result"
    }
   ],
   "source": [
    "results[0].find('td', {'class' : 'td-change7d'}).get_text().strip()"
   ]
  },
  {
   "cell_type": "markdown",
   "metadata": {},
   "source": [
    "### 24h Volume"
   ]
  },
  {
   "cell_type": "code",
   "execution_count": 13,
   "metadata": {},
   "outputs": [
    {
     "data": {
      "text/plain": [
       "'$44,249,303,564'"
      ]
     },
     "execution_count": 13,
     "metadata": {},
     "output_type": "execute_result"
    }
   ],
   "source": [
    "results[0].find('td', {'class' : 'td-liquidity_score'}).get_text().strip()"
   ]
  },
  {
   "cell_type": "markdown",
   "metadata": {},
   "source": [
    "### Market Cap"
   ]
  },
  {
   "cell_type": "code",
   "execution_count": 14,
   "metadata": {},
   "outputs": [
    {
     "data": {
      "text/plain": [
       "'$1,260,863,299,967'"
      ]
     },
     "execution_count": 14,
     "metadata": {},
     "output_type": "execute_result"
    }
   ],
   "source": [
    "results[0].find('td', {'class' : 'td-market_cap'}).get_text().strip()"
   ]
  },
  {
   "cell_type": "markdown",
   "metadata": {},
   "source": [
    "### Getting all the data"
   ]
  },
  {
   "cell_type": "code",
   "execution_count": 15,
   "metadata": {},
   "outputs": [],
   "source": [
    "name = []\n",
    "price = []\n",
    "_1h_change = []\n",
    "_24h_change = []\n",
    "_7d_change = []\n",
    "_24h_volume = []\n",
    "market_cap = []\n",
    "\n",
    "for result in results:\n",
    "\n",
    "    #name\n",
    "    try:\n",
    "        name.append(result.find('a', {'class' : 'tw-hidden lg:tw-flex font-bold tw-items-center tw-justify-between'}).get_text().strip())\n",
    "    except:\n",
    "        name.append('n/a')\n",
    "\n",
    "    #price\n",
    "    try:\n",
    "        price.append(result.find('td', {'class' : 'td-price'}).get_text().strip())\n",
    "    except:\n",
    "        price.append('n/a')\n",
    "\n",
    "    #_1h_change\n",
    "    try:\n",
    "        _1h_change.append(result.find('td', {'class' : 'td-change1h'}).get_text().strip())\n",
    "    except:\n",
    "        _1h_change.append('n/a')\n",
    "\n",
    "    #_24h_change\n",
    "    try:\n",
    "        _24h_change.append(result.find('td', {'class' : 'td-change24h'}).get_text().strip())\n",
    "    except:\n",
    "        _24h_change.append('n/a')\n",
    "\n",
    "    #_7d_change\n",
    "    try:\n",
    "        _7d_change.append(result.find('td', {'class' : 'td-change7d'}).get_text().strip())\n",
    "    except:\n",
    "        _7d_change.append('n/a')\n",
    "\n",
    "    #_24h_volume\n",
    "    try:\n",
    "        _24h_volume.append(result.find('td', {'class' : 'td-liquidity_score'}).get_text().strip())\n",
    "    except:\n",
    "        _24h_volume.append('n/a')\n",
    "\n",
    "    #market_cap\n",
    "    try:\n",
    "        market_cap.append(result.find('td', {'class' : 'td-market_cap'}).get_text().strip())\n",
    "    except:\n",
    "        market_cap.append('n/a')\n"
   ]
  },
  {
   "cell_type": "markdown",
   "metadata": {},
   "source": [
    "### Creating a dataframe"
   ]
  },
  {
   "cell_type": "code",
   "execution_count": 16,
   "metadata": {},
   "outputs": [],
   "source": [
    "crypto = pd.DataFrame({'Name' : name, 'Price' : price, '1h_change' : _1h_change, '24h_change' : _24h_change,\n",
    "                     '7d_change' : _7d_change, '24h_volume' : _24h_volume ,'Market Cap' : market_cap})"
   ]
  },
  {
   "cell_type": "code",
   "execution_count": 17,
   "metadata": {},
   "outputs": [
    {
     "data": {
      "text/html": [
       "<div>\n",
       "<style scoped>\n",
       "    .dataframe tbody tr th:only-of-type {\n",
       "        vertical-align: middle;\n",
       "    }\n",
       "\n",
       "    .dataframe tbody tr th {\n",
       "        vertical-align: top;\n",
       "    }\n",
       "\n",
       "    .dataframe thead th {\n",
       "        text-align: right;\n",
       "    }\n",
       "</style>\n",
       "<table border=\"1\" class=\"dataframe\">\n",
       "  <thead>\n",
       "    <tr style=\"text-align: right;\">\n",
       "      <th></th>\n",
       "      <th>Name</th>\n",
       "      <th>Price</th>\n",
       "      <th>1h_change</th>\n",
       "      <th>24h_change</th>\n",
       "      <th>7d_change</th>\n",
       "      <th>24h_volume</th>\n",
       "      <th>Market Cap</th>\n",
       "    </tr>\n",
       "  </thead>\n",
       "  <tbody>\n",
       "    <tr>\n",
       "      <th>0</th>\n",
       "      <td>Bitcoin</td>\n",
       "      <td>$66,824</td>\n",
       "      <td>0.2%</td>\n",
       "      <td>5.1%</td>\n",
       "      <td>18.6%</td>\n",
       "      <td>$44,249,303,564</td>\n",
       "      <td>$1,260,863,299,967</td>\n",
       "    </tr>\n",
       "    <tr>\n",
       "      <th>1</th>\n",
       "      <td>Ethereum</td>\n",
       "      <td>$4,124.45</td>\n",
       "      <td>0.8%</td>\n",
       "      <td>8.0%</td>\n",
       "      <td>17.9%</td>\n",
       "      <td>$21,086,101,020</td>\n",
       "      <td>$486,685,284,073</td>\n",
       "    </tr>\n",
       "    <tr>\n",
       "      <th>2</th>\n",
       "      <td>Binance Coin</td>\n",
       "      <td>$505.20</td>\n",
       "      <td>0.6%</td>\n",
       "      <td>4.3%</td>\n",
       "      <td>14.7%</td>\n",
       "      <td>$1,835,311,929</td>\n",
       "      <td>$85,047,351,861</td>\n",
       "    </tr>\n",
       "    <tr>\n",
       "      <th>3</th>\n",
       "      <td>Cardano</td>\n",
       "      <td>$2.20</td>\n",
       "      <td>0.2%</td>\n",
       "      <td>3.8%</td>\n",
       "      <td>3.7%</td>\n",
       "      <td>$1,996,472,511</td>\n",
       "      <td>$70,496,812,938</td>\n",
       "    </tr>\n",
       "    <tr>\n",
       "      <th>4</th>\n",
       "      <td>Tether</td>\n",
       "      <td>$1.00</td>\n",
       "      <td>-0.1%</td>\n",
       "      <td>0.2%</td>\n",
       "      <td>0.2%</td>\n",
       "      <td>$61,199,951,230</td>\n",
       "      <td>$70,245,586,861</td>\n",
       "    </tr>\n",
       "    <tr>\n",
       "      <th>...</th>\n",
       "      <td>...</td>\n",
       "      <td>...</td>\n",
       "      <td>...</td>\n",
       "      <td>...</td>\n",
       "      <td>...</td>\n",
       "      <td>...</td>\n",
       "      <td>...</td>\n",
       "    </tr>\n",
       "    <tr>\n",
       "      <th>95</th>\n",
       "      <td>Zilliqa</td>\n",
       "      <td>$0.096695214664</td>\n",
       "      <td>0.6%</td>\n",
       "      <td>5.1%</td>\n",
       "      <td>5.2%</td>\n",
       "      <td>$65,999,770</td>\n",
       "      <td>$1,222,220,674</td>\n",
       "    </tr>\n",
       "    <tr>\n",
       "      <th>96</th>\n",
       "      <td>IOST</td>\n",
       "      <td>$0.052098239595</td>\n",
       "      <td>0.2%</td>\n",
       "      <td>4.4%</td>\n",
       "      <td>-3.6%</td>\n",
       "      <td>$104,309,097</td>\n",
       "      <td>$1,189,838,924</td>\n",
       "    </tr>\n",
       "    <tr>\n",
       "      <th>97</th>\n",
       "      <td>dYdX</td>\n",
       "      <td>$20.64</td>\n",
       "      <td>0.2%</td>\n",
       "      <td>3.4%</td>\n",
       "      <td>-7.8%</td>\n",
       "      <td>$312,593,078</td>\n",
       "      <td>$1,173,364,912</td>\n",
       "    </tr>\n",
       "    <tr>\n",
       "      <th>98</th>\n",
       "      <td>Mina Protocol</td>\n",
       "      <td>$4.34</td>\n",
       "      <td>0.7%</td>\n",
       "      <td>7.6%</td>\n",
       "      <td>3.5%</td>\n",
       "      <td>$43,300,064</td>\n",
       "      <td>$1,172,065,952</td>\n",
       "    </tr>\n",
       "    <tr>\n",
       "      <th>99</th>\n",
       "      <td>Curve DAO Token</td>\n",
       "      <td>$2.96</td>\n",
       "      <td>1.6%</td>\n",
       "      <td>8.8%</td>\n",
       "      <td>10.2%</td>\n",
       "      <td>$200,999,576</td>\n",
       "      <td>$1,158,322,964</td>\n",
       "    </tr>\n",
       "  </tbody>\n",
       "</table>\n",
       "<p>100 rows × 7 columns</p>\n",
       "</div>"
      ],
      "text/plain": [
       "               Name            Price 1h_change 24h_change 7d_change  \\\n",
       "0           Bitcoin          $66,824      0.2%       5.1%     18.6%   \n",
       "1          Ethereum        $4,124.45      0.8%       8.0%     17.9%   \n",
       "2      Binance Coin          $505.20      0.6%       4.3%     14.7%   \n",
       "3           Cardano            $2.20      0.2%       3.8%      3.7%   \n",
       "4            Tether            $1.00     -0.1%       0.2%      0.2%   \n",
       "..              ...              ...       ...        ...       ...   \n",
       "95          Zilliqa  $0.096695214664      0.6%       5.1%      5.2%   \n",
       "96             IOST  $0.052098239595      0.2%       4.4%     -3.6%   \n",
       "97             dYdX           $20.64      0.2%       3.4%     -7.8%   \n",
       "98    Mina Protocol            $4.34      0.7%       7.6%      3.5%   \n",
       "99  Curve DAO Token            $2.96      1.6%       8.8%     10.2%   \n",
       "\n",
       "         24h_volume          Market Cap  \n",
       "0   $44,249,303,564  $1,260,863,299,967  \n",
       "1   $21,086,101,020    $486,685,284,073  \n",
       "2    $1,835,311,929     $85,047,351,861  \n",
       "3    $1,996,472,511     $70,496,812,938  \n",
       "4   $61,199,951,230     $70,245,586,861  \n",
       "..              ...                 ...  \n",
       "95      $65,999,770      $1,222,220,674  \n",
       "96     $104,309,097      $1,189,838,924  \n",
       "97     $312,593,078      $1,173,364,912  \n",
       "98      $43,300,064      $1,172,065,952  \n",
       "99     $200,999,576      $1,158,322,964  \n",
       "\n",
       "[100 rows x 7 columns]"
      ]
     },
     "execution_count": 17,
     "metadata": {},
     "output_type": "execute_result"
    }
   ],
   "source": [
    "crypto\n"
   ]
  },
  {
   "cell_type": "markdown",
   "metadata": {},
   "source": [
    "### Storing it in Excel"
   ]
  },
  {
   "cell_type": "code",
   "execution_count": 18,
   "metadata": {},
   "outputs": [],
   "source": [
    "crypto.to_excel('single_crypto_page.xlsx', index = False)"
   ]
  },
  {
   "cell_type": "markdown",
   "metadata": {},
   "source": [
    "## Pagination - For 1000 results"
   ]
  },
  {
   "cell_type": "code",
   "execution_count": 19,
   "metadata": {},
   "outputs": [],
   "source": [
    "name = []\n",
    "price = []\n",
    "_1h_change = []\n",
    "_24h_change = []\n",
    "_7d_change = []\n",
    "_24h_volume = []\n",
    "market_cap = []\n",
    "\n",
    "for i in range(1,11):\n",
    "\n",
    "    #website\n",
    "    website = 'https://www.coingecko.com/en?page=' + str(i)\n",
    "\n",
    "    #response\n",
    "    response = requests.get(website)\n",
    "\n",
    "    #soup object\n",
    "    bs = BeautifulSoup(response.content, 'html.parser')\n",
    "\n",
    "    #result\n",
    "    results = bs.find('table',{'class' : 'table-scrollable'}).find('tbody').find_all('tr')\n",
    "\n",
    "    for result in results:\n",
    "\n",
    "        #name\n",
    "        try:\n",
    "            name.append(result.find('a', {'class' : 'tw-hidden lg:tw-flex font-bold tw-items-center tw-justify-between'}).get_text().strip())\n",
    "        except:\n",
    "            name.append('n/a')\n",
    "\n",
    "        #price\n",
    "        try:\n",
    "            price.append(result.find('td', {'class' : 'td-price'}).get_text().strip())\n",
    "        except:\n",
    "            price.append('n/a')\n",
    "\n",
    "        #_1h_change\n",
    "        try:\n",
    "            _1h_change.append(result.find('td', {'class' : 'td-change1h'}).get_text().strip())\n",
    "        except:\n",
    "            _1h_change.append('n/a')\n",
    "\n",
    "        #_24h_change\n",
    "        try:\n",
    "            _24h_change.append(result.find('td', {'class' : 'td-change24h'}).get_text().strip())\n",
    "        except:\n",
    "            _24h_change.append('n/a')\n",
    "\n",
    "        #_7d_change\n",
    "        try:\n",
    "            _7d_change.append(result.find('td', {'class' : 'td-change7d'}).get_text().strip())\n",
    "        except:\n",
    "            _7d_change.append('n/a')\n",
    "\n",
    "        #_24h_volume\n",
    "        try:\n",
    "            _24h_volume.append(result.find('td', {'class' : 'td-liquidity_score'}).get_text().strip())\n",
    "        except:\n",
    "            _24h_volume.append('n/a')\n",
    "\n",
    "        #market_cap\n",
    "        try:\n",
    "            market_cap.append(result.find('td', {'class' : 'td-market_cap'}).get_text().strip())\n",
    "        except:\n",
    "            market_cap.append('n/a')\n",
    "\n"
   ]
  },
  {
   "cell_type": "markdown",
   "metadata": {},
   "source": [
    "### Creating a DataFrame "
   ]
  },
  {
   "cell_type": "code",
   "execution_count": 21,
   "metadata": {},
   "outputs": [],
   "source": [
    "\n",
    "crypto = pd.DataFrame({'Name' : name, 'Price' : price, '1h_change' : _1h_change, '24h_change' : _24h_change,\n",
    "                     '7d_change' : _7d_change, '24h_volume' : _24h_volume ,'Market Cap' : market_cap})"
   ]
  },
  {
   "cell_type": "code",
   "execution_count": 22,
   "metadata": {},
   "outputs": [
    {
     "data": {
      "text/html": [
       "<div>\n",
       "<style scoped>\n",
       "    .dataframe tbody tr th:only-of-type {\n",
       "        vertical-align: middle;\n",
       "    }\n",
       "\n",
       "    .dataframe tbody tr th {\n",
       "        vertical-align: top;\n",
       "    }\n",
       "\n",
       "    .dataframe thead th {\n",
       "        text-align: right;\n",
       "    }\n",
       "</style>\n",
       "<table border=\"1\" class=\"dataframe\">\n",
       "  <thead>\n",
       "    <tr style=\"text-align: right;\">\n",
       "      <th></th>\n",
       "      <th>Name</th>\n",
       "      <th>Price</th>\n",
       "      <th>1h_change</th>\n",
       "      <th>24h_change</th>\n",
       "      <th>7d_change</th>\n",
       "      <th>24h_volume</th>\n",
       "      <th>Market Cap</th>\n",
       "    </tr>\n",
       "  </thead>\n",
       "  <tbody>\n",
       "    <tr>\n",
       "      <th>0</th>\n",
       "      <td>Bitcoin</td>\n",
       "      <td>$66,824</td>\n",
       "      <td>0.2%</td>\n",
       "      <td>5.1%</td>\n",
       "      <td>18.6%</td>\n",
       "      <td>$44,249,303,564</td>\n",
       "      <td>$1,260,863,299,967</td>\n",
       "    </tr>\n",
       "    <tr>\n",
       "      <th>1</th>\n",
       "      <td>Ethereum</td>\n",
       "      <td>$4,124.45</td>\n",
       "      <td>0.8%</td>\n",
       "      <td>8.0%</td>\n",
       "      <td>17.9%</td>\n",
       "      <td>$21,086,101,020</td>\n",
       "      <td>$486,685,284,073</td>\n",
       "    </tr>\n",
       "    <tr>\n",
       "      <th>2</th>\n",
       "      <td>Binance Coin</td>\n",
       "      <td>$505.20</td>\n",
       "      <td>0.6%</td>\n",
       "      <td>4.3%</td>\n",
       "      <td>14.7%</td>\n",
       "      <td>$1,835,311,929</td>\n",
       "      <td>$85,047,351,861</td>\n",
       "    </tr>\n",
       "    <tr>\n",
       "      <th>3</th>\n",
       "      <td>Cardano</td>\n",
       "      <td>$2.20</td>\n",
       "      <td>0.2%</td>\n",
       "      <td>3.8%</td>\n",
       "      <td>3.7%</td>\n",
       "      <td>$1,996,472,511</td>\n",
       "      <td>$70,496,812,938</td>\n",
       "    </tr>\n",
       "    <tr>\n",
       "      <th>4</th>\n",
       "      <td>Tether</td>\n",
       "      <td>$1.00</td>\n",
       "      <td>-0.1%</td>\n",
       "      <td>0.2%</td>\n",
       "      <td>0.2%</td>\n",
       "      <td>$61,199,951,230</td>\n",
       "      <td>$70,245,586,861</td>\n",
       "    </tr>\n",
       "    <tr>\n",
       "      <th>...</th>\n",
       "      <td>...</td>\n",
       "      <td>...</td>\n",
       "      <td>...</td>\n",
       "      <td>...</td>\n",
       "      <td>...</td>\n",
       "      <td>...</td>\n",
       "      <td>...</td>\n",
       "    </tr>\n",
       "    <tr>\n",
       "      <th>995</th>\n",
       "      <td>Bread</td>\n",
       "      <td>$0.193046</td>\n",
       "      <td>0.7%</td>\n",
       "      <td>-6.1%</td>\n",
       "      <td>18.2%</td>\n",
       "      <td>$1,517,511</td>\n",
       "      <td>$16,487,359</td>\n",
       "    </tr>\n",
       "    <tr>\n",
       "      <th>996</th>\n",
       "      <td>Nafter</td>\n",
       "      <td>$0.037196373110</td>\n",
       "      <td>2.1%</td>\n",
       "      <td>-5.4%</td>\n",
       "      <td>-18.0%</td>\n",
       "      <td>$2,743,590</td>\n",
       "      <td>$16,461,997</td>\n",
       "    </tr>\n",
       "    <tr>\n",
       "      <th>997</th>\n",
       "      <td>Quantum Resistant Ledger</td>\n",
       "      <td>$0.219044</td>\n",
       "      <td>2.3%</td>\n",
       "      <td>-21.4%</td>\n",
       "      <td>3.7%</td>\n",
       "      <td>$287,847</td>\n",
       "      <td>$16,453,575</td>\n",
       "    </tr>\n",
       "    <tr>\n",
       "      <th>998</th>\n",
       "      <td>GrimToken</td>\n",
       "      <td>$1.78</td>\n",
       "      <td>2.9%</td>\n",
       "      <td>18.5%</td>\n",
       "      <td>251.8%</td>\n",
       "      <td>$651,463</td>\n",
       "      <td>$16,451,890</td>\n",
       "    </tr>\n",
       "    <tr>\n",
       "      <th>999</th>\n",
       "      <td>Idavoll Network</td>\n",
       "      <td>$0.020837924907</td>\n",
       "      <td>0.9%</td>\n",
       "      <td>0.7%</td>\n",
       "      <td>4.9%</td>\n",
       "      <td>$922,505</td>\n",
       "      <td>$16,450,744</td>\n",
       "    </tr>\n",
       "  </tbody>\n",
       "</table>\n",
       "<p>1000 rows × 7 columns</p>\n",
       "</div>"
      ],
      "text/plain": [
       "                         Name            Price 1h_change 24h_change 7d_change  \\\n",
       "0                     Bitcoin          $66,824      0.2%       5.1%     18.6%   \n",
       "1                    Ethereum        $4,124.45      0.8%       8.0%     17.9%   \n",
       "2                Binance Coin          $505.20      0.6%       4.3%     14.7%   \n",
       "3                     Cardano            $2.20      0.2%       3.8%      3.7%   \n",
       "4                      Tether            $1.00     -0.1%       0.2%      0.2%   \n",
       "..                        ...              ...       ...        ...       ...   \n",
       "995                     Bread        $0.193046      0.7%      -6.1%     18.2%   \n",
       "996                    Nafter  $0.037196373110      2.1%      -5.4%    -18.0%   \n",
       "997  Quantum Resistant Ledger        $0.219044      2.3%     -21.4%      3.7%   \n",
       "998                 GrimToken            $1.78      2.9%      18.5%    251.8%   \n",
       "999           Idavoll Network  $0.020837924907      0.9%       0.7%      4.9%   \n",
       "\n",
       "          24h_volume          Market Cap  \n",
       "0    $44,249,303,564  $1,260,863,299,967  \n",
       "1    $21,086,101,020    $486,685,284,073  \n",
       "2     $1,835,311,929     $85,047,351,861  \n",
       "3     $1,996,472,511     $70,496,812,938  \n",
       "4    $61,199,951,230     $70,245,586,861  \n",
       "..               ...                 ...  \n",
       "995       $1,517,511         $16,487,359  \n",
       "996       $2,743,590         $16,461,997  \n",
       "997         $287,847         $16,453,575  \n",
       "998         $651,463         $16,451,890  \n",
       "999         $922,505         $16,450,744  \n",
       "\n",
       "[1000 rows x 7 columns]"
      ]
     },
     "execution_count": 22,
     "metadata": {},
     "output_type": "execute_result"
    }
   ],
   "source": [
    "crypto"
   ]
  },
  {
   "cell_type": "markdown",
   "metadata": {},
   "source": [
    "### Checking the data"
   ]
  },
  {
   "cell_type": "code",
   "execution_count": 23,
   "metadata": {},
   "outputs": [
    {
     "name": "stdout",
     "output_type": "stream",
     "text": [
      "<class 'pandas.core.frame.DataFrame'>\n",
      "RangeIndex: 1000 entries, 0 to 999\n",
      "Data columns (total 7 columns):\n",
      " #   Column      Non-Null Count  Dtype \n",
      "---  ------      --------------  ----- \n",
      " 0   Name        1000 non-null   object\n",
      " 1   Price       1000 non-null   object\n",
      " 2   1h_change   1000 non-null   object\n",
      " 3   24h_change  1000 non-null   object\n",
      " 4   7d_change   1000 non-null   object\n",
      " 5   24h_volume  1000 non-null   object\n",
      " 6   Market Cap  1000 non-null   object\n",
      "dtypes: object(7)\n",
      "memory usage: 54.8+ KB\n"
     ]
    }
   ],
   "source": [
    "crypto.info()"
   ]
  },
  {
   "cell_type": "markdown",
   "metadata": {},
   "source": [
    "### Storing it in Excel"
   ]
  },
  {
   "cell_type": "code",
   "execution_count": 24,
   "metadata": {},
   "outputs": [],
   "source": [
    "crypto.to_excel('multiple_crypto_page.xlsx', index= False)"
   ]
  }
 ],
 "metadata": {
  "interpreter": {
   "hash": "3fa70447f6c39cb8684e960899af163ac1be1cc7141a88cd45973becac2b3a47"
  },
  "kernelspec": {
   "display_name": "Python 3.9.5 64-bit",
   "name": "python3"
  },
  "language_info": {
   "codemirror_mode": {
    "name": "ipython",
    "version": 3
   },
   "file_extension": ".py",
   "mimetype": "text/x-python",
   "name": "python",
   "nbconvert_exporter": "python",
   "pygments_lexer": "ipython3",
   "version": "3.9.5"
  },
  "orig_nbformat": 4
 },
 "nbformat": 4,
 "nbformat_minor": 2
}
